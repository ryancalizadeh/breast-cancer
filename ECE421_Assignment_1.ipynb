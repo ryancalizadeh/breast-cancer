{
  "nbformat": 4,
  "nbformat_minor": 0,
  "metadata": {
    "colab": {
      "provenance": [],
      "collapsed_sections": []
    },
    "kernelspec": {
      "name": "python3",
      "display_name": "Python 3"
    },
    "language_info": {
      "name": "python"
    }
  },
  "cells": [
    {
      "cell_type": "markdown",
      "source": [
        "# Problem 1\n",
        "\n"
      ],
      "metadata": {
        "id": "cKEgIsMM3vk7"
      }
    },
    {
      "cell_type": "code",
      "execution_count": 2,
      "metadata": {
        "id": "igmFXgq93DAn"
      },
      "outputs": [],
      "source": [
        "import sklearn.datasets as datasets\n",
        "import numpy as np\n",
        "\n",
        "dataset = datasets.load_breast_cancer()"
      ]
    },
    {
      "cell_type": "markdown",
      "source": [
        "1. (5 points) Implement κ-means yourself. Your function should take in an array containing a dataset and a value of κ, and return the cluster centroids along with the cluster assignment for each data point. You may choose the initialization heuristic of your choice among the two we saw in class. Hand-in the code for full credit. For this question, you should not rely on any library other than numPy in Python"
      ],
      "metadata": {
        "id": "VqB8HgG73T0S"
      }
    },
    {
      "cell_type": "code",
      "source": [
        "def k_means(dataset: np.ndarray, k: int):\n",
        "  m = dataset.shape[0]\n",
        "  centroids = dataset[np.random.choice(m, size=k, replace=False)]\n",
        "  prev_centroids = np.zeros((k, 30))\n",
        "  assignments = [[] for i in range(k)]\n",
        "  \n",
        "  while not np.allclose(prev_centroids, centroids):\n",
        "    # Cluster Assignment\n",
        "    assignments = [[] for i in range(k)]\n",
        "    for i, point in enumerate(dataset):\n",
        "      dists = [np.linalg.norm(point - centroid) for centroid in centroids]\n",
        "      centroid_index = np.argmin(dists)\n",
        "      assignments[centroid_index].append(point)\n",
        "\n",
        "    # Centroid Assignment\n",
        "    prev_centroids = np.copy(centroids)\n",
        "    for i, cluster in enumerate(assignments):\n",
        "      points = np.array(cluster)\n",
        "      avg = np.average(points, axis=0)\n",
        "      centroids[i] = avg\n",
        "  return centroids, assignments"
      ],
      "metadata": {
        "id": "Lmi9d8JqTO8t"
      },
      "execution_count": 3,
      "outputs": []
    },
    {
      "cell_type": "markdown",
      "source": [
        "2. Run the κ-means algorithm for values of κ varying between 2 and 7, at increments of 1. Justify in your answer which data you passed as the input to the κ-means algorithm."
      ],
      "metadata": {
        "id": "pJnrGqIW__kz"
      }
    },
    {
      "cell_type": "code",
      "source": [
        "for i in range(2, 8):\n",
        "  k_means(dataset.data, i)\n",
        "# I chose to pass the entire dataset because it was available to me"
      ],
      "metadata": {
        "id": "Gm74oyS8AJCn"
      },
      "execution_count": 33,
      "outputs": []
    },
    {
      "cell_type": "markdown",
      "source": [
        "3. (2 points) Plot the distortion achieved by κ-means for values of κ varying between 2 and 7, at increments of 1. Hand-in the code and figure output for full credit. For this question, you may rely on plotting libraries such as matplotlib."
      ],
      "metadata": {
        "id": "C_5lctM-A7FY"
      }
    },
    {
      "cell_type": "code",
      "source": [
        "import matplotlib.pyplot as plt\n",
        "\n",
        "def j(centroids, assignments):\n",
        "  total = 0.0\n",
        "  for i, centroid in enumerate(centroids):\n",
        "    total += np.sum(np.square(assignments[i] - centroid))\n",
        "  return total\n",
        "\n",
        "distortions = np.zeros((6))\n",
        "ks = np.arange(2, 8)\n",
        "for i in ks:\n",
        "  centroids, assignments = k_means(dataset.data, i)\n",
        "  distortions[i-2] = j(centroids, assignments)\n",
        "\n",
        "plt.scatter(ks, distortions)\n",
        "plt.xlabel(\"K values\")\n",
        "plt.ylabel(\"Distortion\")"
      ],
      "metadata": {
        "colab": {
          "base_uri": "https://localhost:8080/",
          "height": 308
        },
        "id": "PHW5ZUZaBTCs",
        "outputId": "691e0ade-1474-41be-b7d2-36986a42b20d"
      },
      "execution_count": 7,
      "outputs": [
        {
          "output_type": "execute_result",
          "data": {
            "text/plain": [
              "Text(0, 0.5, 'Distortion')"
            ]
          },
          "metadata": {},
          "execution_count": 7
        },
        {
          "output_type": "display_data",
          "data": {
            "text/plain": [
              "<Figure size 432x288 with 1 Axes>"
            ],
            "image/png": "[encoded data removed]"
          },
          "metadata": {
            "needs_background": "light"
          }
        }
      ]
    },
    {
      "cell_type": "markdown",
      "source": [
        "4. (1 point) If you had to pick one value of κ, which value would you pick? Justify your choice."
      ],
      "metadata": {
        "id": "bAmXcA2f_88d"
      }
    },
    {
      "cell_type": "markdown",
      "source": [
        "From the plot in question 3, we observe that k=7 achieves the lowest distortion. However, we know that the features are meant to predict cancer diagnoses: a binary classification. Therefore, it makes most sense to use k=2 to cluster the data into 2 categories (cancer vs no cancer)."
      ],
      "metadata": {
        "id": "kCfMTnhfAEoY"
      }
    },
    {
      "cell_type": "markdown",
      "source": [
        "# Problem 2 - Lack of optimality of κ-means"
      ],
      "metadata": {
        "id": "JDJrqSLmGDNn"
      }
    },
    {
      "cell_type": "markdown",
      "source": [
        "1. (3 points) Construct an analytical demonstration that κ-means might converge to a solution that is not globally optimal. Hint: consider the case where κ = 2 and the dataset is made up of 4 points in R as follows: x(1) = 1, x(2) = 2, x(3) = 3, x(4) = 4. Initialize κ-means with the centroids μ_1 = 2 and μ_2 = 4. Note: you may assume that if a point x(i) is equally distant to multiple centroids μ_k , the point will be assigned to the centroid whose index is smallest, i.e., k with the smallest value for k ∈ argmin_k ||x(i) − μ_k||^2\n",
        "\n"
      ],
      "metadata": {
        "id": "FgcLuFVmGKjQ"
      }
    },
    {
      "cell_type": "markdown",
      "source": [
        "In the case described, observe that the initial cluster assignments will be\n",
        "\n",
        "1. μ_1: x(1), x(2), x(3)\n",
        "2. μ_1: x(4)\n",
        "\n",
        "From these clusters, the new centroids will become\n",
        "\n",
        "1. μ_1: 2\n",
        "2. μ_1: 4\n",
        "\n",
        "However, note that these are the original centroids so the algorithm will stop, having converged.\n",
        "\n",
        "Calculating the distortion for this example:\n",
        "\n",
        "∑||x(i) − μ_k||^2 = 0 + 1 + 0 + 1 = 2\n",
        "\n",
        "If instead we used the centroids\n",
        "\n",
        "1. μ_1: 1.5\n",
        "2. μ_1: 3.5\n",
        "\n",
        "with corresponding assignments\n",
        "\n",
        "1. μ_1: x(1), x(2)\n",
        "2. μ_1: x(3), x(4)\n",
        "\n",
        "We get the distortion\n",
        "\n",
        "∑||x(i) − μ_k||^2 = 0.5^2 + 0.5^2 + 0.5^2 + 0.5^2 = 1\n",
        "\n",
        "Which is clearly more optimal"
      ],
      "metadata": {
        "id": "yimXFH2rHimP"
      }
    },
    {
      "cell_type": "markdown",
      "source": [],
      "metadata": {
        "id": "fTSRvGgyhyvM"
      }
    }
  ]
}